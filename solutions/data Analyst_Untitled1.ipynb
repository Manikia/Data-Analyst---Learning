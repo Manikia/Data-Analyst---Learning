{
  "cells": [
    {
      "cell_type": "code",
      "execution_count": null,
      "metadata": {
        "trusted": true
      },
      "outputs": [],
      "source": [
        "import pandas as pd"
      ]
    },
    {
      "cell_type": "code",
      "execution_count": null,
      "metadata": {
        "trusted": true
      },
      "outputs": [],
      "source": [
        "filename ='Lending-company-single-column-data.csv'\n",
        "my_csv_data = pd.read_csv(filename)\n",
        "my_csv_data"
      ]
    },
    {
      "cell_type": "code",
      "execution_count": null,
      "metadata": {
        "trusted": true
      },
      "outputs": [],
      "source": [
        "filename = 'Lending-company.csv'\n",
        "my_csv_data = pd.read_csv(filename, index_col = 'LoanID')\n",
        "my_csv_data"
      ]
    },
    {
      "cell_type": "code",
      "execution_count": null,
      "metadata": {
        "trusted": true
      },
      "outputs": [],
      "source": [
        "data = {'ProductName': ['Product A', 'Product B', 'Product C'], 'ProductPrice':[22250, 16600, 12500]} # creating a new table\n",
        "product_ID = ['A', 'B', 'C'] # creating new IDs\n",
        "df = pd.DataFrame(data, index = product_ID) #creates a tabular data for the information provided"
      ]
    },
    {
      "cell_type": "code",
      "execution_count": null,
      "metadata": {
        "trusted": true
      },
      "outputs": [],
      "source": [
        "df"
      ]
    },
    {
      "cell_type": "code",
      "execution_count": null,
      "metadata": {
        "trusted": true
      },
      "outputs": [],
      "source": [
        "import numpy as np"
      ]
    },
    {
      "cell_type": "markdown",
      "metadata": {},
      "source": [
        "### np.loadtxt() vs np.genfromtxt()"
      ]
    },
    {
      "cell_type": "markdown",
      "metadata": {},
      "source": [
        "- load means that the data is ready to be imported and used\n",
        "    - faster\n",
        "    - breaks when we give it incomplete or incorrectly formatted sets\n",
        "- genfromtxt is short from generated from text where it creates the dataset from the text file\n",
        "    - so it will generate the array as we read the text file so it only takes the rows and columns and splits into multiple variables\n",
        "    - more flexibility and can handle missing values\n",
        "- delimiters are things used to define distinct fields in text files for example when we use commas"
      ]
    },
    {
      "cell_type": "code",
      "execution_count": null,
      "metadata": {
        "trusted": true
      },
      "outputs": [],
      "source": [
        "lending_company_numeric = np.loadtxt('Lending-Company-Numeric-Data.csv', delimiter = ',')\n",
        "lending_company_numeric"
      ]
    },
    {
      "cell_type": "code",
      "execution_count": null,
      "metadata": {
        "trusted": true
      },
      "outputs": [],
      "source": [
        "lending_company_numeric2 = np.genfromtxt('Lending-Company-Numeric-Data.csv', delimiter = ',')\n",
        "lending_company_numeric2"
      ]
    },
    {
      "cell_type": "code",
      "execution_count": null,
      "metadata": {
        "trusted": true
      },
      "outputs": [],
      "source": [
        "#to check if two arrays are equal we do np.array_equal(string, string)\n",
        "np.array_equal(lending_company_numeric, lending_company_numeric2)"
      ]
    },
    {
      "cell_type": "code",
      "execution_count": null,
      "metadata": {
        "trusted": true
      },
      "outputs": [],
      "source": [
        "# working with missing variables using both ways showsn before\n",
        "lending_company_numeric_NAN = np.loadtxt('Lending-Company-Numeric-Data-NAN.csv', delimiter = ';')\n",
        "lending_company_numeric_NAN\n",
        "# returns an error because it encountered a symbol rather than a number"
      ]
    },
    {
      "cell_type": "code",
      "execution_count": null,
      "metadata": {
        "trusted": true
      },
      "outputs": [],
      "source": [
        "# working with missing variables using both ways showsn before\n",
        "lending_company_numeric_NAN2 = np.genfromtxt('Lending-Company-Numeric-Data-NAN.csv', delimiter = ';')\n",
        "lending_company_numeric_NAN2\n",
        "# successfuly runs"
      ]
    },
    {
      "cell_type": "code",
      "execution_count": null,
      "metadata": {
        "trusted": true
      },
      "outputs": [],
      "source": [
        "# another way to fix this is to tell the code to read everything as a symbol rather than numbers\n",
        "# working with missing variables using both ways showsn before\n",
        "lending_company_numeric_NAN3 = np.loadtxt('Lending-Company-Numeric-Data-NAN.csv', delimiter = ';', dtype = str)\n",
        "lending_company_numeric_NAN3"
      ]
    },
    {
      "cell_type": "markdown",
      "metadata": {},
      "source": [
        "Partial Cleaning While Importing"
      ]
    },
    {
      "cell_type": "code",
      "execution_count": null,
      "metadata": {
        "trusted": true
      },
      "outputs": [],
      "source": [
        "lending_company_numeric_NAN4 = np.genfromtxt('Lending-Company-Numeric-Data-NAN.csv', delimiter = ';', skip_header=2)\n",
        "lending_company_numeric_NAN4\n",
        "# skip header will remove first two lines of the dataset, we can omit as many lines as we want from the top of the dataset"
      ]
    },
    {
      "cell_type": "code",
      "execution_count": null,
      "metadata": {
        "trusted": true
      },
      "outputs": [],
      "source": [
        "lending_company_numeric_NAN4 = np.genfromtxt('Lending-Company-Numeric-Data-NAN.csv', delimiter = ';', skip_footer=2)\n",
        "lending_company_numeric_NAN4\n",
        "# skip header will remove last two lines of the dataset, we can omit as many lines as we want from the bottom of the dataset"
      ]
    },
    {
      "cell_type": "code",
      "execution_count": null,
      "metadata": {
        "trusted": true
      },
      "outputs": [],
      "source": [
        "lending_company_numeric_NAN4 = np.genfromtxt('Lending-Company-Numeric-Data-NAN.csv', delimiter = ';', usecols=(2, 5))\n",
        "lending_company_numeric_NAN4\n",
        "# usecols means we only want to look at the specified column\n",
        "# we dont have to specify the order we want the output and if we want we can combine what we previously did as well"
      ]
    },
    {
      "cell_type": "code",
      "execution_count": null,
      "metadata": {
        "trusted": true
      },
      "outputs": [],
      "source": [
        "# if we want to separate a column to a variable name we can do as below\n",
        "lending_co_data2, lending_co_data5 = np.genfromtxt('Lending-Company-Numeric-Data-NAN.csv', delimiter = ';', \n",
        "                                                   usecols=(2, 5),\n",
        "                                                  skip_header = 2,\n",
        "                                                  skip_footer=2,\n",
        "                                                  unpack=True)"
      ]
    },
    {
      "cell_type": "code",
      "execution_count": null,
      "metadata": {
        "trusted": true
      },
      "outputs": [],
      "source": [
        "print(lending_co_data2)\n",
        "print(lending_co_data5)"
      ]
    },
    {
      "cell_type": "code",
      "execution_count": null,
      "metadata": {
        "trusted": true
      },
      "outputs": [],
      "source": [
        "prices_per_product = '{\"Product A\":22250, \"Product B\":16600, \"Product C\":15600}'\n",
        "prices_per_product"
      ]
    },
    {
      "cell_type": "code",
      "execution_count": null,
      "metadata": {
        "trusted": true
      },
      "outputs": [],
      "source": [
        "import json"
      ]
    },
    {
      "cell_type": "code",
      "execution_count": null,
      "metadata": {
        "trusted": true
      },
      "outputs": [],
      "source": [
        "parsed_str = json.loads(prices_per_product)\n",
        "parsed_str"
      ]
    },
    {
      "cell_type": "code",
      "execution_count": null,
      "metadata": {
        "trusted": true
      },
      "outputs": [],
      "source": [
        "type(parsed_str)"
      ]
    },
    {
      "cell_type": "code",
      "execution_count": null,
      "metadata": {
        "trusted": true
      },
      "outputs": [],
      "source": [
        "import pandas as pd"
      ]
    },
    {
      "cell_type": "code",
      "execution_count": null,
      "metadata": {
        "collapsed": true,
        "jupyter": {
          "outputs_hidden": true
        },
        "trusted": true
      },
      "outputs": [],
      "source": [
        "pd.read_json('Lending-company.json')\n",
        "new_csv_data = pd.read_json('Lending-company.json')\n",
        "new_csv_data"
      ]
    },
    {
      "cell_type": "code",
      "execution_count": null,
      "metadata": {
        "trusted": true
      },
      "outputs": [],
      "source": [
        "type(new_csv_data)"
      ]
    },
    {
      "cell_type": "code",
      "execution_count": null,
      "metadata": {},
      "outputs": [],
      "source": []
    }
  ],
  "metadata": {
    "kernelspec": {
      "display_name": "Python 3.10.5 64-bit",
      "language": "python",
      "name": "python3"
    },
    "language_info": {
      "codemirror_mode": {
        "name": "ipython",
        "version": 3
      },
      "file_extension": ".py",
      "mimetype": "text/x-python",
      "name": "python",
      "nbconvert_exporter": "python",
      "pygments_lexer": "ipython3",
      "version": "3.10.5"
    },
    "vscode": {
      "interpreter": {
        "hash": "7c3e04438675b5cfdc400f9b54a508eb51037cc8ee32024c9010f869a21e1d28"
      }
    }
  },
  "nbformat": 4,
  "nbformat_minor": 4
}
