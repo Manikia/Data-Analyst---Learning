{
 "cells": [
  {
   "cell_type": "markdown",
   "metadata": {},
   "source": [
    "# NumPy DataTypes"
   ]
  },
  {
   "cell_type": "code",
   "execution_count": 1,
   "metadata": {},
   "outputs": [],
   "source": [
    "import numpy as np"
   ]
  },
  {
   "cell_type": "markdown",
   "metadata": {},
   "source": [
    "### 1. With the help of the <i> np.array() </i>function, create a 1-D array variable <i> array_hw_1 </i> with the numbers from 1 to 8 and display it on the screen."
   ]
  },
  {
   "cell_type": "code",
   "execution_count": 2,
   "metadata": {},
   "outputs": [],
   "source": [
    "array_hw_1 = np.array([1,2,3,4,5,6,7,8])"
   ]
  },
  {
   "cell_type": "markdown",
   "metadata": {},
   "source": [
    "### 2.Check its type, shape and size. \n",
    "<i> (<b>Hint </b>: \"type\" is a Python function, while \"shape\" and \"size\" are attributes of the array) </i>"
   ]
  },
  {
   "cell_type": "code",
   "execution_count": 3,
   "metadata": {
    "scrolled": true
   },
   "outputs": [
    {
     "data": {
      "text/plain": [
       "(8,)"
      ]
     },
     "execution_count": 3,
     "metadata": {},
     "output_type": "execute_result"
    }
   ],
   "source": [
    "array_hw_1.shape"
   ]
  },
  {
   "cell_type": "code",
   "execution_count": 5,
   "metadata": {},
   "outputs": [
    {
     "data": {
      "text/plain": [
       "numpy.ndarray"
      ]
     },
     "execution_count": 5,
     "metadata": {},
     "output_type": "execute_result"
    }
   ],
   "source": [
    "type(array_hw_1)"
   ]
  },
  {
   "cell_type": "code",
   "execution_count": 6,
   "metadata": {},
   "outputs": [
    {
     "data": {
      "text/plain": [
       "8"
      ]
     },
     "execution_count": 6,
     "metadata": {},
     "output_type": "execute_result"
    }
   ],
   "source": [
    "array_hw_1.size"
   ]
  },
  {
   "cell_type": "markdown",
   "metadata": {},
   "source": [
    "### 3. Now, create a 2x4 2-D array, <i> array_hw_2</i> with the same values & display it on screen. "
   ]
  },
  {
   "cell_type": "code",
   "execution_count": 11,
   "metadata": {},
   "outputs": [
    {
     "data": {
      "text/plain": [
       "array([[1, 2, 3, 4],\n",
       "       [5, 6, 7, 8]])"
      ]
     },
     "execution_count": 11,
     "metadata": {},
     "output_type": "execute_result"
    }
   ],
   "source": [
    "array_hw_2 = np.array([[1,2,3,4],[5,6,7,8]])\n",
    "array_hw_2"
   ]
  },
  {
   "cell_type": "markdown",
   "metadata": {},
   "source": [
    "### 4. Find its type, shape, and size. "
   ]
  },
  {
   "cell_type": "code",
   "execution_count": 12,
   "metadata": {},
   "outputs": [
    {
     "data": {
      "text/plain": [
       "(2, 4)"
      ]
     },
     "execution_count": 12,
     "metadata": {},
     "output_type": "execute_result"
    }
   ],
   "source": [
    "array_hw_2.shape"
   ]
  },
  {
   "cell_type": "code",
   "execution_count": 13,
   "metadata": {},
   "outputs": [
    {
     "data": {
      "text/plain": [
       "numpy.ndarray"
      ]
     },
     "execution_count": 13,
     "metadata": {},
     "output_type": "execute_result"
    }
   ],
   "source": [
    "type(array_hw_2)"
   ]
  },
  {
   "cell_type": "code",
   "execution_count": 14,
   "metadata": {},
   "outputs": [
    {
     "data": {
      "text/plain": [
       "8"
      ]
     },
     "execution_count": 14,
     "metadata": {},
     "output_type": "execute_result"
    }
   ],
   "source": [
    "array_hw_2.size"
   ]
  },
  {
   "cell_type": "markdown",
   "metadata": {},
   "source": [
    "### 5. Use square brackets to create a 3-D array with the same values as <i> array_hw_2 </i> and display it on screen."
   ]
  },
  {
   "cell_type": "code",
   "execution_count": 27,
   "metadata": {},
   "outputs": [
    {
     "data": {
      "text/plain": [
       "array([[[1, 2, 3, 4],\n",
       "        [5, 6, 7, 8]]])"
      ]
     },
     "execution_count": 27,
     "metadata": {},
     "output_type": "execute_result"
    }
   ],
   "source": [
    "array_hw_2 = np.array([[[1,2,3,4],[5,6,7,8]]])\n",
    "#array_hw_2 = np.array([[[1,2,3,4],[5,6,7,8]], [[9,10,11,12], [13,14,15,16]]])\n",
    "array_hw_2"
   ]
  },
  {
   "cell_type": "markdown",
   "metadata": {},
   "source": [
    "### 6. Find its type, shape and size. \n"
   ]
  },
  {
   "cell_type": "code",
   "execution_count": 28,
   "metadata": {},
   "outputs": [
    {
     "data": {
      "text/plain": [
       "(1, 2, 4)"
      ]
     },
     "execution_count": 28,
     "metadata": {},
     "output_type": "execute_result"
    }
   ],
   "source": [
    "array_hw_2.shape #saying it has # amount of pages by #x#"
   ]
  },
  {
   "cell_type": "code",
   "execution_count": 29,
   "metadata": {},
   "outputs": [
    {
     "data": {
      "text/plain": [
       "numpy.ndarray"
      ]
     },
     "execution_count": 29,
     "metadata": {},
     "output_type": "execute_result"
    }
   ],
   "source": [
    "type(array_hw_2)"
   ]
  },
  {
   "cell_type": "code",
   "execution_count": 30,
   "metadata": {},
   "outputs": [
    {
     "data": {
      "text/plain": [
       "8"
      ]
     },
     "execution_count": 30,
     "metadata": {},
     "output_type": "execute_result"
    }
   ],
   "source": [
    "array_hw_2.size"
   ]
  },
  {
   "cell_type": "markdown",
   "metadata": {},
   "source": [
    "### 7. Define a 2-D list <i> list_hw_1 </i> with the same values as <i> array_hw_2 </i>and display it on screen."
   ]
  },
  {
   "cell_type": "code",
   "execution_count": 46,
   "metadata": {},
   "outputs": [
    {
     "data": {
      "text/plain": [
       "[[1, 2, 3, 4], [5, 6, 7, 8]]"
      ]
     },
     "execution_count": 46,
     "metadata": {},
     "output_type": "execute_result"
    }
   ],
   "source": [
    "list_hw_1 = [[1,2,3,4],[5,6,7,8]]\n",
    "list_hw_1"
   ]
  },
  {
   "cell_type": "markdown",
   "metadata": {},
   "source": [
    "### 8. Find the length of this 2-D list. "
   ]
  },
  {
   "cell_type": "code",
   "execution_count": 39,
   "metadata": {},
   "outputs": [
    {
     "data": {
      "text/plain": [
       "2"
      ]
     },
     "execution_count": 39,
     "metadata": {},
     "output_type": "execute_result"
    }
   ],
   "source": [
    "len(list_hw_1)"
   ]
  },
  {
   "cell_type": "markdown",
   "metadata": {},
   "source": [
    "### 9. Fint the length of one of its sublists. "
   ]
  },
  {
   "cell_type": "code",
   "execution_count": 40,
   "metadata": {},
   "outputs": [
    {
     "data": {
      "text/plain": [
       "4"
      ]
     },
     "execution_count": 40,
     "metadata": {},
     "output_type": "execute_result"
    }
   ],
   "source": [
    "len(list_hw_1[0])"
   ]
  },
  {
   "cell_type": "markdown",
   "metadata": {},
   "source": [
    "### 10. Verify its type. "
   ]
  },
  {
   "cell_type": "code",
   "execution_count": 41,
   "metadata": {},
   "outputs": [
    {
     "data": {
      "text/plain": [
       "list"
      ]
     },
     "execution_count": 41,
     "metadata": {},
     "output_type": "execute_result"
    }
   ],
   "source": [
    "type(list_hw_1)"
   ]
  },
  {
   "cell_type": "markdown",
   "metadata": {},
   "source": [
    "### 11. Use the <i>np.array()</i> function to create an array out of <i> list_hw_1</i> and display it on screen."
   ]
  },
  {
   "cell_type": "code",
   "execution_count": 44,
   "metadata": {},
   "outputs": [],
   "source": [
    "array_hw_4 = np.array(list_hw_1)"
   ]
  },
  {
   "cell_type": "code",
   "execution_count": 45,
   "metadata": {},
   "outputs": [
    {
     "data": {
      "text/plain": [
       "array([[1, 2, 3, 4],\n",
       "       [5, 6, 7, 8]])"
      ]
     },
     "execution_count": 45,
     "metadata": {},
     "output_type": "execute_result"
    }
   ],
   "source": [
    "array_hw_4"
   ]
  },
  {
   "cell_type": "markdown",
   "metadata": {},
   "source": [
    "### 12. Create two more variables and display them on screen:\n",
    "    A) A list which is the sum of the two sublists of list_hw_1;\n",
    "    B) An array which is the sum of the two subarrays of array_hw_4;\n",
    "    \n",
    "    (Hint: Use indexing to refer to the different sub-lists/arrays)"
   ]
  },
  {
   "cell_type": "code",
   "execution_count": 54,
   "metadata": {},
   "outputs": [],
   "source": [
    "list_sum = list_hw_1[0]+list_hw_1[1]"
   ]
  },
  {
   "cell_type": "code",
   "execution_count": 55,
   "metadata": {},
   "outputs": [
    {
     "data": {
      "text/plain": [
       "[1, 2, 3, 4, 5, 6, 7, 8]"
      ]
     },
     "execution_count": 55,
     "metadata": {},
     "output_type": "execute_result"
    }
   ],
   "source": [
    "list_sum"
   ]
  },
  {
   "cell_type": "code",
   "execution_count": 49,
   "metadata": {},
   "outputs": [],
   "source": [
    "array_hw_5 = array_hw_4[0]+array_hw_4[1]"
   ]
  },
  {
   "cell_type": "code",
   "execution_count": 52,
   "metadata": {},
   "outputs": [
    {
     "data": {
      "text/plain": [
       "array([ 6,  8, 10, 12])"
      ]
     },
     "execution_count": 52,
     "metadata": {},
     "output_type": "execute_result"
    }
   ],
   "source": [
    "array_sum = array_hw_5\n",
    "array_sum"
   ]
  },
  {
   "cell_type": "markdown",
   "metadata": {},
   "source": [
    "### 13. Find the square roots of all the elements in <i> array_sum </i>\n",
    "   <i> (<b>Hint</b>: Use the np.sqrt() function)"
   ]
  },
  {
   "cell_type": "code",
   "execution_count": 53,
   "metadata": {},
   "outputs": [
    {
     "data": {
      "text/plain": [
       "array([2.44948974, 2.82842712, 3.16227766, 3.46410162])"
      ]
     },
     "execution_count": 53,
     "metadata": {},
     "output_type": "execute_result"
    }
   ],
   "source": [
    "from math import sqrt\n",
    "\n",
    "np.sqrt(array_sum)"
   ]
  },
  {
   "cell_type": "markdown",
   "metadata": {},
   "source": [
    "### 13. Find the square roots of all the elements in <i> list_sum </i>\n",
    "   <i> (<b>Hint</b>: Most NumPy functions are equipped to handle <b> lists </b>like ndarrays with the same shape)"
   ]
  },
  {
   "cell_type": "code",
   "execution_count": 56,
   "metadata": {
    "scrolled": true
   },
   "outputs": [
    {
     "data": {
      "text/plain": [
       "array([1.        , 1.41421356, 1.73205081, 2.        , 2.23606798,\n",
       "       2.44948974, 2.64575131, 2.82842712])"
      ]
     },
     "execution_count": 56,
     "metadata": {},
     "output_type": "execute_result"
    }
   ],
   "source": [
    "np.sqrt(list_sum)"
   ]
  },
  {
   "cell_type": "markdown",
   "metadata": {},
   "source": [
    "### 14. Use <i> np.genfromtxt() </i> to import the <i> \"Lending-Company-Total-Price.csv\" </i> file as strings and display its contents.\n",
    "    You can open the file in a text editor like Notepad++ to check its delimiter. "
   ]
  },
  {
   "cell_type": "code",
   "execution_count": 63,
   "metadata": {},
   "outputs": [
    {
     "data": {
      "text/plain": [
       "array([['LoanID', 'StringID', 'Product', ..., 'Location', 'Region',\n",
       "        'TotalPrice'],\n",
       "       ['1', 'id_1', 'Product B', ..., 'Location 2', 'Region 2', '16600'],\n",
       "       ['2', 'id_2', 'Product B', ..., 'Location 3', '', '16600'],\n",
       "       ...,\n",
       "       ['413', 'id_413', 'Product B', ..., 'Location 135', 'Region 1',\n",
       "        '16600'],\n",
       "       ['414', 'id_414', 'Product C', ..., 'Location 200', 'Region 6',\n",
       "        '15600'],\n",
       "       ['415', 'id_415', 'Product A', ..., 'Location 8', 'Region 2',\n",
       "        '22250']], dtype='<U14')"
      ]
     },
     "execution_count": 63,
     "metadata": {},
     "output_type": "execute_result"
    }
   ],
   "source": [
    "lending_co_TP = np.genfromtxt('../csv_files/Lending-Company-Total-Price.csv', delimiter = ',', dtype = str)\n",
    "lending_co_TP"
   ]
  },
  {
   "cell_type": "markdown",
   "metadata": {},
   "source": [
    "### 15. Use the <i> skip_header </i> and <i> usecols </i> parameters to only take the numerical data from the file. Then, let's see how the inputs change if we alter the datatype argument to:\n",
    "\n",
    "    A) The default (not specify it)\n",
    "    B) 32-bit integers (np.int32)\n",
    "    C) 32-bit floats (np.float32)\n",
    "    D) 64-bit complex numbers (np.complex64)\n",
    "    E) Unicode (np.unicode)\n",
    "    F) Objects (np.object)\n",
    "    G) None"
   ]
  },
  {
   "cell_type": "code",
   "execution_count": 75,
   "metadata": {},
   "outputs": [
    {
     "data": {
      "text/plain": [
       "array([[    1, 16600],\n",
       "       [    2, 16600],\n",
       "       [    3, 15600],\n",
       "       [    4, 16600],\n",
       "       [    5, 20250],\n",
       "       [    6,    -1],\n",
       "       [    7, 20250],\n",
       "       [    8, 16600],\n",
       "       [    9, 22250],\n",
       "       [   10, 20250],\n",
       "       [   11, 16600],\n",
       "       [   12, 20250],\n",
       "       [   13, 16600],\n",
       "       [   14, 20750],\n",
       "       [   15, 22250],\n",
       "       [   16, 16600],\n",
       "       [   17, 22250],\n",
       "       [   18, 16600],\n",
       "       [   19, 16600],\n",
       "       [   20, 54625],\n",
       "       [   21, 16600],\n",
       "       [   22, 22250],\n",
       "       [   23, 19250],\n",
       "       [   24, 15600],\n",
       "       [   25, 20250],\n",
       "       [   26, 22250],\n",
       "       [   27, 19250],\n",
       "       [   28, 69225],\n",
       "       [   29, 20250],\n",
       "       [   30, 16600],\n",
       "       [   31, 16600],\n",
       "       [   32, 16600],\n",
       "       [   33, 19250],\n",
       "       [   34, 16600],\n",
       "       [   35, 19250],\n",
       "       [   36, 16600],\n",
       "       [   37, 16600],\n",
       "       [   38, 16600],\n",
       "       [   39, 15600],\n",
       "       [   40, 16600],\n",
       "       [   41, 16600],\n",
       "       [   42, 16600],\n",
       "       [   43, 19250],\n",
       "       [   44, 15600],\n",
       "       [   45, 19250],\n",
       "       [   46, 16600],\n",
       "       [   47, 16600],\n",
       "       [   48, 16600],\n",
       "       [   49, 20250],\n",
       "       [   50, 22250],\n",
       "       [   51, 16600],\n",
       "       [   52, 20250],\n",
       "       [   53, 20250],\n",
       "       [   54, 16600],\n",
       "       [   55, 16600],\n",
       "       [   56, 16600],\n",
       "       [   57,    -1],\n",
       "       [   58, 16600],\n",
       "       [   59, 16600],\n",
       "       [   60, 16600],\n",
       "       [   61, 19250],\n",
       "       [   62, 15600],\n",
       "       [   63, 15600],\n",
       "       [   64, 20250],\n",
       "       [   65, 16600],\n",
       "       [   66, 22250],\n",
       "       [   67, 22250],\n",
       "       [   68, 20250],\n",
       "       [   69, 20250],\n",
       "       [   70, 16600],\n",
       "       [   71, 15600],\n",
       "       [   72, 16600],\n",
       "       [   73, 16600],\n",
       "       [   74, 22250],\n",
       "       [   75, 20750],\n",
       "       [   76, 22250],\n",
       "       [   77, 19250],\n",
       "       [   78, 20250],\n",
       "       [   79, 20250],\n",
       "       [   80, 20250],\n",
       "       [   81, 19250],\n",
       "       [   82, 16600],\n",
       "       [   83, 22250],\n",
       "       [   84, 20250],\n",
       "       [   85, 16600],\n",
       "       [   86, 19250],\n",
       "       [   87, 22250],\n",
       "       [   88, 16600],\n",
       "       [   89, 19250],\n",
       "       [   90, 16600],\n",
       "       [   91,    -1],\n",
       "       [   92, 20250],\n",
       "       [   93, 16600],\n",
       "       [   94, 16600],\n",
       "       [   95, 19250],\n",
       "       [   96, 16600],\n",
       "       [   97, 16600],\n",
       "       [   98, 22250],\n",
       "       [   99, 22250],\n",
       "       [  100, 16600],\n",
       "       [  101, 16600],\n",
       "       [  102, 19250],\n",
       "       [  103, 16600],\n",
       "       [  104, 22250],\n",
       "       [  105, 19250],\n",
       "       [  106, 16600],\n",
       "       [  107, 16600],\n",
       "       [  108, 19250],\n",
       "       [  109, 16600],\n",
       "       [  110, 22250],\n",
       "       [  111, 16600],\n",
       "       [  112, 15600],\n",
       "       [  113, 16600],\n",
       "       [  114, 20250],\n",
       "       [  115, 16600],\n",
       "       [  116, 19250],\n",
       "       [  117, 19250],\n",
       "       [  118, 19250],\n",
       "       [  119, 15600],\n",
       "       [  120, 22250],\n",
       "       [  121, 22250],\n",
       "       [  122, 16600],\n",
       "       [  123, 20250],\n",
       "       [  124, 16600],\n",
       "       [  125, 16600],\n",
       "       [  126, 20750],\n",
       "       [  127, 20250],\n",
       "       [  128, 16600],\n",
       "       [  129, 16600],\n",
       "       [  130, 16600],\n",
       "       [  131, 15600],\n",
       "       [  132, 16600],\n",
       "       [  133, 15600],\n",
       "       [  134, 19250],\n",
       "       [  135, 16600],\n",
       "       [  136, 16600],\n",
       "       [  137, 20250],\n",
       "       [  138, 19250],\n",
       "       [  139, 15600],\n",
       "       [  140, 16600],\n",
       "       [  141, 16600],\n",
       "       [  142, 16600],\n",
       "       [  143, 15600],\n",
       "       [  144, 16600],\n",
       "       [  145, 15600],\n",
       "       [  146, 19250],\n",
       "       [  147, 22250],\n",
       "       [  148, 20250],\n",
       "       [  149, 19250],\n",
       "       [  150, 22250],\n",
       "       [  151, 16600],\n",
       "       [  152, 22250],\n",
       "       [  153, 54625],\n",
       "       [  154, 54625],\n",
       "       [  155, 16600],\n",
       "       [  156, 22250],\n",
       "       [  157, 22250],\n",
       "       [  158, 22250],\n",
       "       [  159, 22250],\n",
       "       [  160, 15600],\n",
       "       [  161,    -1],\n",
       "       [  162, 16600],\n",
       "       [  163, 22250],\n",
       "       [  164, 20250],\n",
       "       [  165, 22250],\n",
       "       [  166, 16600],\n",
       "       [  167, 19250],\n",
       "       [  168, 20250],\n",
       "       [  169, 16600],\n",
       "       [  170, 20250],\n",
       "       [  171, 16600],\n",
       "       [  172, 16600],\n",
       "       [  173, 20250],\n",
       "       [  174, 20250],\n",
       "       [  175, 16600],\n",
       "       [  176, 20250],\n",
       "       [  177, 19250],\n",
       "       [  178, 16600],\n",
       "       [  179, 20750],\n",
       "       [  180, 20250],\n",
       "       [  181, 22250],\n",
       "       [  182, 16600],\n",
       "       [  183, 20250],\n",
       "       [  184, 20250],\n",
       "       [  185, 16600],\n",
       "       [  186, 20250],\n",
       "       [  187, 20750],\n",
       "       [  188, 16600],\n",
       "       [  189, 16600],\n",
       "       [  190, 22250],\n",
       "       [  191, 22250],\n",
       "       [  192, 22250],\n",
       "       [  193, 16600],\n",
       "       [  194, 54625],\n",
       "       [  195, 16600],\n",
       "       [  196, 22250],\n",
       "       [  197, 16600],\n",
       "       [  198, 20250],\n",
       "       [  199, 22250],\n",
       "       [  200, 15600],\n",
       "       [  201, 20250],\n",
       "       [  202, 16600],\n",
       "       [  203, 54625],\n",
       "       [  204, 16600],\n",
       "       [  205, 16600],\n",
       "       [  206, 22250],\n",
       "       [  207, 19250],\n",
       "       [  208, 19250],\n",
       "       [  209, 19250],\n",
       "       [  210, 22250],\n",
       "       [  211, 15600],\n",
       "       [  212, 22250],\n",
       "       [  213, 15600],\n",
       "       [  214, 16600],\n",
       "       [  215, 22250],\n",
       "       [  216, 22250],\n",
       "       [  217, 16600],\n",
       "       [  218, 20750],\n",
       "       [  219, 19250],\n",
       "       [  220, 16600],\n",
       "       [  221,    -1],\n",
       "       [  222, 16600],\n",
       "       [  223, 22250],\n",
       "       [  224, 19250],\n",
       "       [  225, 16600],\n",
       "       [  226, 16600],\n",
       "       [  227, 19250],\n",
       "       [  228, 19250],\n",
       "       [  229, 16600],\n",
       "       [  230, 20250],\n",
       "       [  231, 22250],\n",
       "       [  232, 15600],\n",
       "       [  233, 16600],\n",
       "       [  234, 16600],\n",
       "       [  235, 54625],\n",
       "       [  236, 19250],\n",
       "       [  237, 22250],\n",
       "       [  238, 16600],\n",
       "       [  239, 22250],\n",
       "       [  240, 19250],\n",
       "       [  241, 19250],\n",
       "       [  242, 20750],\n",
       "       [  243, 20750],\n",
       "       [  244, 16600],\n",
       "       [  245, 16600],\n",
       "       [  246, 22250],\n",
       "       [  247, 16600],\n",
       "       [  248, 16600],\n",
       "       [  249, 16600],\n",
       "       [  250, 16600],\n",
       "       [  251, 15600],\n",
       "       [  252, 19250],\n",
       "       [  253, 20250],\n",
       "       [  254, 22250],\n",
       "       [  255, 19250],\n",
       "       [  256, 22250],\n",
       "       [  257, 22250],\n",
       "       [  258, 22250],\n",
       "       [  259, 16600],\n",
       "       [  260, 20250],\n",
       "       [  261, 16600],\n",
       "       [  262, 16600],\n",
       "       [  263, 16600],\n",
       "       [  264, 19250],\n",
       "       [  265, 16600],\n",
       "       [  266, 16600],\n",
       "       [  267, 15600],\n",
       "       [  268, 16600],\n",
       "       [  269, 22250],\n",
       "       [  270, 19250],\n",
       "       [  271,    -1],\n",
       "       [  272, 22250],\n",
       "       [  273, 15600],\n",
       "       [  274, 15600],\n",
       "       [  275, 16600],\n",
       "       [  276, 19250],\n",
       "       [  277, 16600],\n",
       "       [  278, 54625],\n",
       "       [  279, 16600],\n",
       "       [  280, 16600],\n",
       "       [  281, 16600],\n",
       "       [  282, 19250],\n",
       "       [  283, 22250],\n",
       "       [  284, 22250],\n",
       "       [  285, 16600],\n",
       "       [  286, 19250],\n",
       "       [  287, 19250],\n",
       "       [  288, 15600],\n",
       "       [  289, 54625],\n",
       "       [  290, 16600],\n",
       "       [  291, 16600],\n",
       "       [  292, 15600],\n",
       "       [  293, 20250],\n",
       "       [  294, 19250],\n",
       "       [  295, 19250],\n",
       "       [  296, 15600],\n",
       "       [  297, 15600],\n",
       "       [  298, 19250],\n",
       "       [  299, 16600],\n",
       "       [  300, 20250],\n",
       "       [  301, 20750],\n",
       "       [  302, 16600],\n",
       "       [  303, 16600],\n",
       "       [  304, 16600],\n",
       "       [  305, 22250],\n",
       "       [  306, 16600],\n",
       "       [  307, 22250],\n",
       "       [  308, 20250],\n",
       "       [  309, 16600],\n",
       "       [  310, 19250],\n",
       "       [  311, 22250],\n",
       "       [  312, 16600],\n",
       "       [  313, 15600],\n",
       "       [  314, 16600],\n",
       "       [  315, 16600],\n",
       "       [  316, 15600],\n",
       "       [  317, 16600],\n",
       "       [  318, 20250],\n",
       "       [  319, 19250],\n",
       "       [  320, 20250],\n",
       "       [  321, 16600],\n",
       "       [  322, 22250],\n",
       "       [  323, 16600],\n",
       "       [  324, 22250],\n",
       "       [  325, 22250],\n",
       "       [  326, 19250],\n",
       "       [  327, 54625],\n",
       "       [  328, 13775],\n",
       "       [  329, 16600],\n",
       "       [  330, 16600],\n",
       "       [  331,    -1],\n",
       "       [  332, 20750],\n",
       "       [  333, 16600],\n",
       "       [  334, 19250],\n",
       "       [  335, 22250],\n",
       "       [  336, 20250],\n",
       "       [  337, 22250],\n",
       "       [  338, 19250],\n",
       "       [  339, 16600],\n",
       "       [  340, 15600],\n",
       "       [  341, 20250],\n",
       "       [  342, 22250],\n",
       "       [  343, 22250],\n",
       "       [  344, 16600],\n",
       "       [  345, 22250],\n",
       "       [  346, 20250],\n",
       "       [  347, 16600],\n",
       "       [  348, 22250],\n",
       "       [  349, 19250],\n",
       "       [  350, 16600],\n",
       "       [  351, 16600],\n",
       "       [  352, 15600],\n",
       "       [  353, 19250],\n",
       "       [  354, 16600],\n",
       "       [  355, 20250],\n",
       "       [  356, 16600],\n",
       "       [  357, 22250],\n",
       "       [  358, 16600],\n",
       "       [  359, 15600],\n",
       "       [  360, 20250],\n",
       "       [  361, 22250],\n",
       "       [  362, 20250],\n",
       "       [  363, 16600],\n",
       "       [  364, 22250],\n",
       "       [  365, 16600],\n",
       "       [  366, 16600],\n",
       "       [  367, 16600],\n",
       "       [  368, 20250],\n",
       "       [  369, 16600],\n",
       "       [  370, 16600],\n",
       "       [  371, 16600],\n",
       "       [  372, 19250],\n",
       "       [  373, 20250],\n",
       "       [  374, 16600],\n",
       "       [  375, 16600],\n",
       "       [  376, 22250],\n",
       "       [  377, 19250],\n",
       "       [  378, 22250],\n",
       "       [  379, 16600],\n",
       "       [  380, 19250],\n",
       "       [  381,    -1],\n",
       "       [  382, 20250],\n",
       "       [  383, 20750],\n",
       "       [  384, 16600],\n",
       "       [  385, 16600],\n",
       "       [  386, 16600],\n",
       "       [  387, 16600],\n",
       "       [  388, 20250],\n",
       "       [  389, 16600],\n",
       "       [  390, 22250],\n",
       "       [  391, 15600],\n",
       "       [  392, 16600],\n",
       "       [  393, 16600],\n",
       "       [  394, 15600],\n",
       "       [  395, 16600],\n",
       "       [  396, 15600],\n",
       "       [  397, 19250],\n",
       "       [  398, 20250],\n",
       "       [  399, 16600],\n",
       "       [  400, 16600],\n",
       "       [  401, 16600],\n",
       "       [  402, 16600],\n",
       "       [  403, 15600],\n",
       "       [  404, 16600],\n",
       "       [  405, 19250],\n",
       "       [  406, 16600],\n",
       "       [  407, 20250],\n",
       "       [  408, 20250],\n",
       "       [  409, 69225],\n",
       "       [  410, 15600],\n",
       "       [  411, 16600],\n",
       "       [  412, 16600],\n",
       "       [  413, 16600],\n",
       "       [  414, 15600],\n",
       "       [  415, 22250]])"
      ]
     },
     "execution_count": 75,
     "metadata": {},
     "output_type": "execute_result"
    }
   ],
   "source": [
    "lending_co_TP = np.genfromtxt('../csv_files/Lending-Company-Total-Price.csv', delimiter = ',', dtype = None, skip_header=1, usecols = (0,-1))\n",
    "lending_co_TP"
   ]
  },
  {
   "cell_type": "markdown",
   "metadata": {},
   "source": [
    "### 16. Setting the datatype to None means the function automatically chooses the datatype for each column of the text file, so let's see how this works for all the columns."
   ]
  },
  {
   "cell_type": "code",
   "execution_count": 85,
   "metadata": {},
   "outputs": [
    {
     "name": "stderr",
     "output_type": "stream",
     "text": [
      "C:\\Users\\rapmo\\AppData\\Local\\Temp\\ipykernel_7524\\270749439.py:1: VisibleDeprecationWarning: Reading unicode strings without specifying the encoding argument is deprecated. Set the encoding, use None for the system default.\n",
      "  lending_co_TP = np.genfromtxt(\"../csv_files/Lending-Company-Total-Price.csv\", delimiter = ',', dtype = None)\n"
     ]
    },
    {
     "data": {
      "text/plain": [
       "array([[b'LoanID', b'StringID', b'Product', ..., b'Location', b'Region',\n",
       "        b'TotalPrice'],\n",
       "       [b'1', b'id_1', b'Product B', ..., b'Location 2', b'Region 2',\n",
       "        b'16600'],\n",
       "       [b'2', b'id_2', b'Product B', ..., b'Location 3', b'', b'16600'],\n",
       "       ...,\n",
       "       [b'413', b'id_413', b'Product B', ..., b'Location 135',\n",
       "        b'Region 1', b'16600'],\n",
       "       [b'414', b'id_414', b'Product C', ..., b'Location 200',\n",
       "        b'Region 6', b'15600'],\n",
       "       [b'415', b'id_415', b'Product A', ..., b'Location 8', b'Region 2',\n",
       "        b'22250']], dtype='|S14')"
      ]
     },
     "execution_count": 85,
     "metadata": {},
     "output_type": "execute_result"
    }
   ],
   "source": [
    "lending_co_TP = np.genfromtxt(\"../csv_files/Lending-Company-Total-Price.csv\", delimiter = ',', dtype = None)\n",
    "\n",
    "lending_co_TP"
   ]
  }
 ],
 "metadata": {
  "kernelspec": {
   "display_name": "Python 3",
   "language": "python",
   "name": "python3"
  },
  "language_info": {
   "codemirror_mode": {
    "name": "ipython",
    "version": 3
   },
   "file_extension": ".py",
   "mimetype": "text/x-python",
   "name": "python",
   "nbconvert_exporter": "python",
   "pygments_lexer": "ipython3",
   "version": "3.7.6"
  }
 },
 "nbformat": 4,
 "nbformat_minor": 2
}
